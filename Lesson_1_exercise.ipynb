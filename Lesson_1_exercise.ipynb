{
  "nbformat": 4,
  "nbformat_minor": 0,
  "metadata": {
    "colab": {
      "name": "Lesson 1 exercise.ipynb",
      "provenance": [],
      "collapsed_sections": []
    },
    "kernelspec": {
      "name": "python3",
      "display_name": "Python 3"
    },
    "language_info": {
      "name": "python"
    }
  },
  "cells": [
    {
      "cell_type": "code",
      "execution_count": null,
      "metadata": {
        "colab": {
          "base_uri": "https://localhost:8080/"
        },
        "id": "NqQBW-2DPckz",
        "outputId": "9c5d04d6-6d35-4015-842d-f083c011e935"
      },
      "outputs": [
        {
          "output_type": "stream",
          "name": "stdout",
          "text": [
            "4\n"
          ]
        }
      ],
      "source": [
        "girls_playing = 3\n",
        "\n",
        "girls_playing = girls_playing + 1\n",
        "\n",
        "print(girls_playing)\n"
      ]
    },
    {
      "cell_type": "code",
      "source": [
        "#Assign a number to the variable\n",
        "girls_playing = 5\n",
        "\n",
        "print(\"They are\", girls_playing, \"girls playing today.\")"
      ],
      "metadata": {
        "colab": {
          "base_uri": "https://localhost:8080/"
        },
        "id": "CEGTB-NIQKxS",
        "outputId": "81605db7-e6a5-4c2b-f45b-da9086f715f0"
      },
      "execution_count": null,
      "outputs": [
        {
          "output_type": "stream",
          "name": "stdout",
          "text": [
            "They are 5 girls playing today.\n"
          ]
        }
      ]
    },
    {
      "cell_type": "code",
      "source": [
        "# Assign a boolean to the variable and then print it\n",
        "alive = True\n",
        "print(type(alive))"
      ],
      "metadata": {
        "colab": {
          "base_uri": "https://localhost:8080/"
        },
        "id": "SU8Hy25oRvhm",
        "outputId": "cc3b3f3f-b7fd-4ef7-f7cf-a554551595cd"
      },
      "execution_count": null,
      "outputs": [
        {
          "output_type": "stream",
          "name": "stdout",
          "text": [
            "<class 'bool'>\n"
          ]
        }
      ]
    }
  ]
}