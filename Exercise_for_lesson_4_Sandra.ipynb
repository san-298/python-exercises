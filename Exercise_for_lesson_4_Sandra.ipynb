{
  "nbformat": 4,
  "nbformat_minor": 0,
  "metadata": {
    "colab": {
      "name": "Exercise for lesson 4 Sandra.ipynb",
      "provenance": [],
      "collapsed_sections": []
    },
    "kernelspec": {
      "name": "python3",
      "display_name": "Python 3"
    },
    "language_info": {
      "name": "python"
    }
  },
  "cells": [
    {
      "cell_type": "code",
      "execution_count": null,
      "metadata": {
        "colab": {
          "base_uri": "https://localhost:8080/"
        },
        "id": "_y5xl-O6t4fW",
        "outputId": "e79a9f42-4f93-42fb-8b64-dc0ca9a52f8d"
      },
      "outputs": [
        {
          "output_type": "stream",
          "name": "stdout",
          "text": [
            "This me,self,other\n"
          ]
        }
      ],
      "source": [
        "print(\"This {},{},{}\".format(\"me\",\"self\",\"other\"))\n",
        "\n",
        "\n",
        "\n",
        "\n",
        "\n"
      ]
    },
    {
      "cell_type": "code",
      "source": [
        "print(\"I like {},{},{}\".format(\"bananas\", \"mangoes\",\"pawpaws\"))"
      ],
      "metadata": {
        "colab": {
          "base_uri": "https://localhost:8080/"
        },
        "id": "fowabyS4wLVx",
        "outputId": "535f26f3-172a-4325-ee35-d540ab27c2f6"
      },
      "execution_count": null,
      "outputs": [
        {
          "output_type": "stream",
          "name": "stdout",
          "text": [
            "I like bananas,mangoes,pawpaws\n"
          ]
        }
      ]
    },
    {
      "cell_type": "code",
      "source": [
        "print(\" Jane goes {}\".format(\"King Charles Academy\"))"
      ],
      "metadata": {
        "colab": {
          "base_uri": "https://localhost:8080/"
        },
        "id": "y0BOiYE2xuBh",
        "outputId": "1484688a-a299-42c7-8ac2-ee4bd95c3e61"
      },
      "execution_count": null,
      "outputs": [
        {
          "output_type": "stream",
          "name": "stdout",
          "text": [
            " Jane goes King Charles Academy\n"
          ]
        }
      ]
    },
    {
      "cell_type": "code",
      "source": [
        "#Lists example\n",
        "\n",
        "my_list =[1,2,3,4]\n",
        "my_list.pop()\n",
        "print(my_list)"
      ],
      "metadata": {
        "id": "p5b4-c0ozahu"
      },
      "execution_count": null,
      "outputs": []
    },
    {
      "cell_type": "code",
      "source": [
        "my_list =[8,6,3,1,2,5,4]\n",
        "my_list.sort()\n",
        "print(my_list)"
      ],
      "metadata": {
        "colab": {
          "base_uri": "https://localhost:8080/"
        },
        "id": "I5kmzM7o1i1x",
        "outputId": "57b953f6-583f-4e4f-aa44-6e213a0120e4"
      },
      "execution_count": null,
      "outputs": [
        {
          "output_type": "stream",
          "name": "stdout",
          "text": [
            "[1, 2, 3, 4, 5, 6, 8]\n"
          ]
        }
      ]
    },
    {
      "cell_type": "code",
      "source": [
        "#exercise\n",
        "\n",
        "name = [\"me\",\"solo\", \"boy\"]\n",
        "name.pop()\n",
        "print(name)"
      ],
      "metadata": {
        "colab": {
          "base_uri": "https://localhost:8080/"
        },
        "id": "c8FEF0zo2vqD",
        "outputId": "7b07f6cc-5ac2-4c50-e9c8-02441ae8131e"
      },
      "execution_count": 19,
      "outputs": [
        {
          "output_type": "stream",
          "name": "stdout",
          "text": [
            "['me', 'solo']\n"
          ]
        }
      ]
    },
    {
      "cell_type": "code",
      "source": [
        "name = [\"me\",\"solo\",\"boy\"]\n",
        "name = (\"boy\")\n",
        "print(name)"
      ],
      "metadata": {
        "colab": {
          "base_uri": "https://localhost:8080/"
        },
        "id": "PrfNRYJDHG6X",
        "outputId": "0e53c2be-ce72-49bf-afe8-a6bfd11a0b41"
      },
      "execution_count": 20,
      "outputs": [
        {
          "output_type": "stream",
          "name": "stdout",
          "text": [
            "boy\n"
          ]
        }
      ]
    },
    {
      "cell_type": "code",
      "source": [
        "name =[\"me\",\"solo\",\"boy\"]\n",
        "result = len(name)\n",
        "print(result)"
      ],
      "metadata": {
        "colab": {
          "base_uri": "https://localhost:8080/"
        },
        "id": "TZWP8RaVH_sJ",
        "outputId": "34c114af-0c9f-499b-fbf5-f40a60276c23"
      },
      "execution_count": null,
      "outputs": [
        {
          "output_type": "stream",
          "name": "stdout",
          "text": [
            "3\n"
          ]
        }
      ]
    },
    {
      "cell_type": "code",
      "source": [
        "name =[\"me\",\"solo\",\"boy\"]\n",
        "name.append(6)\n",
        "print(name)"
      ],
      "metadata": {
        "colab": {
          "base_uri": "https://localhost:8080/"
        },
        "id": "6VpmAKt4IuG2",
        "outputId": "ef6e6e24-d2c8-4dba-e3f4-5a729acb4ece"
      },
      "execution_count": null,
      "outputs": [
        {
          "output_type": "stream",
          "name": "stdout",
          "text": [
            "['me', 'solo', 'boy', 6]\n"
          ]
        }
      ]
    },
    {
      "cell_type": "code",
      "source": [
        "to_insert = \"first\"\n",
        "name = [\"me\",\"solo\",\"boy\"]\n",
        "name = [to_insert] + name\n",
        "print(name)"
      ],
      "metadata": {
        "colab": {
          "base_uri": "https://localhost:8080/"
        },
        "id": "YXuTEzrEJ-pC",
        "outputId": "324fec0a-3988-40e8-80e5-49b5a9851bc3"
      },
      "execution_count": null,
      "outputs": [
        {
          "output_type": "stream",
          "name": "stdout",
          "text": [
            "['first', 'me', 'solo', 'boy']\n"
          ]
        }
      ]
    },
    {
      "cell_type": "code",
      "source": [
        "name = ['me', 'solo', 'boy']\n",
        "word = (\"first\")\n",
        "name.append(word)"
      ],
      "metadata": {
        "id": "9iPGzlLss719"
      },
      "execution_count": 2,
      "outputs": []
    },
    {
      "cell_type": "code",
      "source": [
        "name = ['me','solo', 'boy']\n",
        "\n",
        "print(\"original list: \" + str(name))\n"
      ],
      "metadata": {
        "colab": {
          "base_uri": "https://localhost:8080/"
        },
        "id": "5ikLTvjGwA1Z",
        "outputId": "ba6640ff-56ec-4b15-9d17-bb297623ea55"
      },
      "execution_count": 4,
      "outputs": [
        {
          "output_type": "stream",
          "name": "stdout",
          "text": [
            "original list: ['me', 'solo', 'boy']\n"
          ]
        }
      ]
    },
    {
      "cell_type": "code",
      "source": [
        "name = [\"first\"] + name\n",
        "print(\"Resultant list : \" + str(name))"
      ],
      "metadata": {
        "colab": {
          "base_uri": "https://localhost:8080/"
        },
        "id": "KK867yQMxsV2",
        "outputId": "d45286da-dbe5-4a95-8e95-2fa111868c93"
      },
      "execution_count": 7,
      "outputs": [
        {
          "output_type": "stream",
          "name": "stdout",
          "text": [
            "Resultant list : ['first', 'me', 'solo', 'boy']\n"
          ]
        }
      ]
    },
    {
      "cell_type": "markdown",
      "source": [
        " # Homework\n",
        "Nums = [10,4,6,2,1,9,0]\n"
      ],
      "metadata": {
        "id": "_md62x7Hyqrs"
      }
    },
    {
      "cell_type": "code",
      "source": [
        "my_list = [10,4,6,2,1,9,0]\n",
        "my_list.sort()\n",
        "print(my_list)"
      ],
      "metadata": {
        "colab": {
          "base_uri": "https://localhost:8080/"
        },
        "id": "DJm2QtO7zeyK",
        "outputId": "d0219077-1b76-41cd-d5e9-d9161ec0ef55"
      },
      "execution_count": 9,
      "outputs": [
        {
          "output_type": "stream",
          "name": "stdout",
          "text": [
            "[0, 1, 2, 4, 6, 9, 10]\n"
          ]
        }
      ]
    },
    {
      "cell_type": "code",
      "source": [
        "my_list.reverse()\n",
        "print(my_list)"
      ],
      "metadata": {
        "colab": {
          "base_uri": "https://localhost:8080/"
        },
        "id": "bj8yDb7p1nIU",
        "outputId": "5e12137d-787c-4b43-d452-f27402bc460c"
      },
      "execution_count": 10,
      "outputs": [
        {
          "output_type": "stream",
          "name": "stdout",
          "text": [
            "[10, 9, 6, 4, 2, 1, 0]\n"
          ]
        }
      ]
    },
    {
      "cell_type": "code",
      "source": [
        "my_list = [10,4,12,0,[2,6,'me',7]]\n",
        "my_list.reverse()\n",
        "print(my_list)"
      ],
      "metadata": {
        "colab": {
          "base_uri": "https://localhost:8080/"
        },
        "id": "wOECxAfG2FGb",
        "outputId": "8a98cd3a-89d7-4e45-8ec9-ae4000228a88"
      },
      "execution_count": 11,
      "outputs": [
        {
          "output_type": "stream",
          "name": "stdout",
          "text": [
            "[[2, 6, 'me', 7], 0, 12, 4, 10]\n"
          ]
        }
      ]
    },
    {
      "cell_type": "code",
      "source": [
        "my_list = [10,4,6,2,1,9,0]\n",
        "my_list = [0]\n",
        "print(my_list)"
      ],
      "metadata": {
        "colab": {
          "base_uri": "https://localhost:8080/"
        },
        "id": "-_NHohpR3zmi",
        "outputId": "c74b1cc8-4c52-4099-cc47-c087da6c9dc2"
      },
      "execution_count": 12,
      "outputs": [
        {
          "output_type": "stream",
          "name": "stdout",
          "text": [
            "[0]\n"
          ]
        }
      ]
    },
    {
      "cell_type": "code",
      "source": [
        "my_list = [10,4,6,2,1,9,0]\n",
        "my_list = ['me']\n",
        "print(my_list)"
      ],
      "metadata": {
        "colab": {
          "base_uri": "https://localhost:8080/"
        },
        "id": "i2tEF1QR4cYD",
        "outputId": "28f7c11f-d78b-4cb3-a600-c6e025f0b673"
      },
      "execution_count": 13,
      "outputs": [
        {
          "output_type": "stream",
          "name": "stdout",
          "text": [
            "['me']\n"
          ]
        }
      ]
    }
  ]
}